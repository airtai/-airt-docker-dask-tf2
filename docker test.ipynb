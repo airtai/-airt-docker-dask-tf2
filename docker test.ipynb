{
 "cells": [
  {
   "cell_type": "markdown",
   "metadata": {},
   "source": [
    "# airt.ai docker test"
   ]
  },
  {
   "cell_type": "code",
   "execution_count": 1,
   "metadata": {},
   "outputs": [
    {
     "name": "stdout",
     "output_type": "stream",
     "text": [
      "Defaulting to user installation because normal site-packages is not writeable\n",
      "Requirement already satisfied: pandas in /root/.local/lib/python3.8/site-packages (1.3.3)\n",
      "Requirement already satisfied: dask==2021.9.0 in /root/.local/lib/python3.8/site-packages (2021.9.0)\n",
      "Requirement already satisfied: partd>=0.3.10 in /root/.local/lib/python3.8/site-packages (from dask==2021.9.0) (1.2.0)\n",
      "Requirement already satisfied: fsspec>=0.6.0 in /usr/local/lib/python3.8/dist-packages (from dask==2021.9.0) (2021.8.1)\n",
      "Requirement already satisfied: cloudpickle>=1.1.1 in /root/.local/lib/python3.8/site-packages (from dask==2021.9.0) (2.0.0)\n",
      "Requirement already satisfied: pyyaml in /usr/local/lib/python3.8/dist-packages (from dask==2021.9.0) (5.4.1)\n",
      "Requirement already satisfied: packaging>=20.0 in /usr/local/lib/python3.8/dist-packages (from dask==2021.9.0) (21.0)\n",
      "Requirement already satisfied: toolz>=0.8.2 in /root/.local/lib/python3.8/site-packages (from dask==2021.9.0) (0.11.1)\n",
      "Requirement already satisfied: numpy>=1.17.3 in /usr/local/lib/python3.8/dist-packages (from pandas) (1.19.5)\n",
      "Requirement already satisfied: python-dateutil>=2.7.3 in /usr/local/lib/python3.8/dist-packages (from pandas) (2.8.2)\n",
      "Requirement already satisfied: pytz>=2017.3 in /root/.local/lib/python3.8/site-packages (from pandas) (2021.1)\n",
      "Requirement already satisfied: pyparsing>=2.0.2 in /usr/local/lib/python3.8/dist-packages (from packaging>=20.0->dask==2021.9.0) (2.4.7)\n",
      "Requirement already satisfied: locket in /root/.local/lib/python3.8/site-packages (from partd>=0.3.10->dask==2021.9.0) (0.2.1)\n",
      "Requirement already satisfied: six>=1.5 in /usr/local/lib/python3.8/dist-packages (from python-dateutil>=2.7.3->pandas) (1.15.0)\n"
     ]
    }
   ],
   "source": [
    "!pip install pandas dask==2021.9.0"
   ]
  },
  {
   "cell_type": "code",
   "execution_count": 2,
   "metadata": {},
   "outputs": [
    {
     "name": "stdout",
     "output_type": "stream",
     "text": [
      "numpy       : 1.19.5\n",
      "pandas      : 1.3.3\n",
      "dask        : 2021.09.0\n",
      "tensorflow  : 2.5.1\n"
     ]
    }
   ],
   "source": [
    "import numpy as np\n",
    "import pandas as pd\n",
    "import dask\n",
    "import tensorflow as tf\n",
    "\n",
    "for m in [np, pd, dask, tf]:\n",
    "    print(\"{:12}: {}\".format(m.__name__, m.__version__))"
   ]
  },
  {
   "cell_type": "code",
   "execution_count": 3,
   "metadata": {},
   "outputs": [
    {
     "name": "stdout",
     "output_type": "stream",
     "text": [
      "Executing op RandomStandardNormal in device /job:localhost/replica:0/task:0/device:GPU:1\n",
      "Executing op Mul in device /job:localhost/replica:0/task:0/device:GPU:1\n",
      "Executing op Add in device /job:localhost/replica:0/task:0/device:GPU:1\n",
      "Executing op RandomUniform in device /job:localhost/replica:0/task:0/device:GPU:1\n",
      "Executing op Sub in device /job:localhost/replica:0/task:0/device:GPU:1\n",
      "Executing op Mul in device /job:localhost/replica:0/task:0/device:GPU:1\n",
      "Executing op Add in device /job:localhost/replica:0/task:0/device:GPU:1\n",
      "Executing op VarHandleOp in device /job:localhost/replica:0/task:0/device:GPU:1\n",
      "Executing op AssignVariableOp in device /job:localhost/replica:0/task:0/device:GPU:1\n",
      "Executing op Fill in device /job:localhost/replica:0/task:0/device:GPU:1\n",
      "Executing op VarHandleOp in device /job:localhost/replica:0/task:0/device:GPU:1\n",
      "Executing op AssignVariableOp in device /job:localhost/replica:0/task:0/device:GPU:1\n",
      "Executing op ExpandDims in device /job:localhost/replica:0/task:0/device:GPU:1\n",
      "Executing op ReadVariableOp in device /job:localhost/replica:0/task:0/device:GPU:1\n",
      "Executing op ExpandDims in device /job:localhost/replica:0/task:0/device:GPU:1\n",
      "Executing op Conv2D in device /job:localhost/replica:0/task:0/device:GPU:1\n",
      "Executing op Squeeze in device /job:localhost/replica:0/task:0/device:GPU:1\n",
      "Executing op ReadVariableOp in device /job:localhost/replica:0/task:0/device:GPU:1\n",
      "Executing op BiasAdd in device /job:localhost/replica:0/task:0/device:GPU:1\n",
      "Executing op Relu in device /job:localhost/replica:0/task:0/device:GPU:1\n",
      "Executing op DestroyResourceOp in device /job:localhost/replica:0/task:0/device:GPU:1\n",
      "Executing op DestroyResourceOp in device /job:localhost/replica:0/task:0/device:GPU:1\n",
      "CPU times: user 802 ms, sys: 305 ms, total: 1.11 s\n",
      "Wall time: 1.15 s\n",
      "Executing op RandomUniform in device /job:localhost/replica:0/task:0/device:GPU:1\n",
      "Executing op Sub in device /job:localhost/replica:0/task:0/device:GPU:1\n",
      "Executing op Mul in device /job:localhost/replica:0/task:0/device:GPU:1\n",
      "Executing op Add in device /job:localhost/replica:0/task:0/device:GPU:1\n",
      "Executing op VarHandleOp in device /job:localhost/replica:0/task:0/device:GPU:1\n",
      "Executing op AssignVariableOp in device /job:localhost/replica:0/task:0/device:GPU:1\n",
      "Executing op Fill in device /job:localhost/replica:0/task:0/device:GPU:1\n",
      "Executing op VarHandleOp in device /job:localhost/replica:0/task:0/device:GPU:1\n",
      "Executing op AssignVariableOp in device /job:localhost/replica:0/task:0/device:GPU:1\n",
      "Executing op ExpandDims in device /job:localhost/replica:0/task:0/device:GPU:1\n",
      "Executing op ReadVariableOp in device /job:localhost/replica:0/task:0/device:GPU:1\n",
      "Executing op ExpandDims in device /job:localhost/replica:0/task:0/device:GPU:1\n",
      "Executing op Conv2D in device /job:localhost/replica:0/task:0/device:GPU:1\n",
      "Executing op Squeeze in device /job:localhost/replica:0/task:0/device:GPU:1\n",
      "Executing op ReadVariableOp in device /job:localhost/replica:0/task:0/device:GPU:1\n",
      "Executing op BiasAdd in device /job:localhost/replica:0/task:0/device:GPU:1\n",
      "Executing op Relu in device /job:localhost/replica:0/task:0/device:GPU:1\n",
      "Executing op DestroyResourceOp in device /job:localhost/replica:0/task:0/device:GPU:1\n",
      "Executing op DestroyResourceOp in device /job:localhost/replica:0/task:0/device:GPU:1\n",
      "CPU times: user 7.7 ms, sys: 4.56 ms, total: 12.3 ms\n",
      "Wall time: 9.75 ms\n"
     ]
    }
   ],
   "source": [
    "# The inputs are 128-length vectors with 10 timesteps, and the batch size\n",
    "# is 4.\n",
    "tf.debugging.set_log_device_placement(True)\n",
    "\n",
    "# Place tensors on the CPU\n",
    "with tf.device('/GPU:1'):\n",
    "    \n",
    "    input_shape = (128, 1024, 1024)\n",
    "    x = tf.random.normal(input_shape)\n",
    "    %time y = tf.keras.layers.Conv1D(32, 3, activation=\"relu\", input_shape=input_shape[1:])(x)\n",
    "    %time y = tf.keras.layers.Conv1D(32, 3, activation=\"relu\", input_shape=input_shape[1:])(x)\n",
    "    y"
   ]
  },
  {
   "cell_type": "code",
   "execution_count": null,
   "metadata": {},
   "outputs": [],
   "source": []
  }
 ],
 "metadata": {
  "kernelspec": {
   "display_name": "Python 3",
   "language": "python",
   "name": "python3"
  },
  "language_info": {
   "codemirror_mode": {
    "name": "ipython",
    "version": 3
   },
   "file_extension": ".py",
   "mimetype": "text/x-python",
   "name": "python",
   "nbconvert_exporter": "python",
   "pygments_lexer": "ipython3",
   "version": "3.8.12"
  }
 },
 "nbformat": 4,
 "nbformat_minor": 4
}
