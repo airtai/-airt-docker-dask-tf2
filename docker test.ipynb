{
 "cells": [
  {
   "cell_type": "markdown",
   "metadata": {},
   "source": [
    "# airt.ai docker test"
   ]
  },
  {
   "cell_type": "code",
   "execution_count": 1,
   "metadata": {},
   "outputs": [
    {
     "name": "stdout",
     "output_type": "stream",
     "text": [
      "INFO:tensorflow:Enabling eager execution\n",
      "INFO:tensorflow:Enabling v2 tensorshape\n",
      "INFO:tensorflow:Enabling resource variables\n",
      "INFO:tensorflow:Enabling tensor equality\n",
      "INFO:tensorflow:Enabling control flow v2\n",
      "numpy       : 1.19.5\n",
      "pandas      : 1.1.5\n",
      "dask        : 2021.04.0\n",
      "tensorflow  : 2.5.0-rc1\n"
     ]
    }
   ],
   "source": [
    "import numpy as np\n",
    "import pandas as pd\n",
    "import dask\n",
    "import tensorflow as tf\n",
    "\n",
    "for m in [np, pd, dask, tf]:\n",
    "    print('{:12}: {}'.format(m.__name__, m.__version__))"
   ]
  },
  {
   "cell_type": "code",
   "execution_count": 2,
   "metadata": {},
   "outputs": [
    {
     "name": "stdout",
     "output_type": "stream",
     "text": [
      "CPU times: user 2.01 s, sys: 720 ms, total: 2.73 s\n",
      "Wall time: 2.78 s\n",
      "CPU times: user 2.77 ms, sys: 0 ns, total: 2.77 ms\n",
      "Wall time: 2.73 ms\n"
     ]
    },
    {
     "data": {
      "text/plain": [
       "<tf.Tensor: shape=(128, 1022, 32), dtype=float32, numpy=\n",
       "array([[[0.        , 0.        , 1.2929851 , ..., 0.        ,\n",
       "         0.        , 0.        ],\n",
       "        [1.1002866 , 2.105396  , 0.        , ..., 1.6767849 ,\n",
       "         1.1879873 , 0.        ],\n",
       "        [0.        , 0.27942583, 1.3390436 , ..., 0.68780077,\n",
       "         0.12362637, 0.        ],\n",
       "        ...,\n",
       "        [0.        , 0.        , 0.        , ..., 3.7697992 ,\n",
       "         0.        , 0.        ],\n",
       "        [0.        , 2.6562307 , 0.        , ..., 0.9459652 ,\n",
       "         0.7143075 , 0.        ],\n",
       "        [1.1332943 , 0.80669343, 1.354319  , ..., 1.0930601 ,\n",
       "         1.1930913 , 0.        ]],\n",
       "\n",
       "       [[1.4467897 , 0.        , 0.        , ..., 0.        ,\n",
       "         0.6050519 , 0.        ],\n",
       "        [1.2094592 , 1.1154282 , 1.5257586 , ..., 0.        ,\n",
       "         0.        , 1.8142066 ],\n",
       "        [0.        , 0.9087187 , 0.        , ..., 0.        ,\n",
       "         0.        , 2.1676178 ],\n",
       "        ...,\n",
       "        [1.8191321 , 0.        , 0.        , ..., 0.        ,\n",
       "         0.        , 1.4904134 ],\n",
       "        [0.        , 1.7738715 , 0.09305683, ..., 0.        ,\n",
       "         0.1923269 , 0.2485785 ],\n",
       "        [0.        , 0.        , 0.16665067, ..., 0.        ,\n",
       "         0.        , 0.        ]],\n",
       "\n",
       "       [[0.        , 0.        , 0.8571875 , ..., 0.        ,\n",
       "         0.30965343, 0.5827055 ],\n",
       "        [0.        , 3.2413576 , 0.        , ..., 0.        ,\n",
       "         0.        , 0.        ],\n",
       "        [1.0777786 , 1.9329884 , 0.        , ..., 0.        ,\n",
       "         0.54491407, 0.62527686],\n",
       "        ...,\n",
       "        [0.        , 0.7637268 , 0.        , ..., 0.        ,\n",
       "         0.        , 0.03141265],\n",
       "        [0.19183135, 0.        , 0.        , ..., 0.        ,\n",
       "         0.3645173 , 1.6937094 ],\n",
       "        [1.359898  , 0.        , 0.9840055 , ..., 1.7776728 ,\n",
       "         0.31669706, 0.        ]],\n",
       "\n",
       "       ...,\n",
       "\n",
       "       [[0.        , 1.3700321 , 0.        , ..., 1.3266045 ,\n",
       "         0.2183618 , 0.        ],\n",
       "        [0.        , 0.41017836, 2.51673   , ..., 0.        ,\n",
       "         2.6289778 , 0.        ],\n",
       "        [1.4139446 , 0.        , 0.54129946, ..., 0.8652313 ,\n",
       "         0.07172946, 0.        ],\n",
       "        ...,\n",
       "        [0.        , 0.        , 1.1823542 , ..., 1.5312198 ,\n",
       "         0.        , 0.3378553 ],\n",
       "        [0.36578774, 1.3423214 , 0.        , ..., 0.32934546,\n",
       "         1.7142481 , 1.8497983 ],\n",
       "        [2.1166005 , 0.        , 0.        , ..., 0.66423583,\n",
       "         0.        , 0.        ]],\n",
       "\n",
       "       [[1.3078402 , 1.5083362 , 0.        , ..., 0.        ,\n",
       "         0.        , 0.65490806],\n",
       "        [0.        , 1.1666489 , 0.        , ..., 1.4931597 ,\n",
       "         0.        , 0.27574295],\n",
       "        [0.        , 0.        , 0.78276604, ..., 0.43526942,\n",
       "         2.3693836 , 0.        ],\n",
       "        ...,\n",
       "        [0.        , 2.7476594 , 0.        , ..., 0.17148225,\n",
       "         0.        , 0.        ],\n",
       "        [0.        , 0.        , 0.20354511, ..., 2.5298967 ,\n",
       "         0.        , 0.39179313],\n",
       "        [0.        , 1.444037  , 0.5406231 , ..., 0.        ,\n",
       "         0.7812108 , 0.        ]],\n",
       "\n",
       "       [[0.        , 0.        , 1.5471251 , ..., 0.        ,\n",
       "         0.        , 0.        ],\n",
       "        [0.        , 0.        , 0.29165736, ..., 0.69154805,\n",
       "         0.        , 0.        ],\n",
       "        [1.1736195 , 0.10590702, 0.        , ..., 0.07911681,\n",
       "         0.24748868, 1.463883  ],\n",
       "        ...,\n",
       "        [0.2794274 , 0.        , 0.        , ..., 0.        ,\n",
       "         2.2127857 , 0.        ],\n",
       "        [1.2817793 , 0.        , 0.        , ..., 0.28264296,\n",
       "         1.4432596 , 0.        ],\n",
       "        [0.4273056 , 0.        , 2.1143517 , ..., 1.0076816 ,\n",
       "         0.        , 0.90416956]]], dtype=float32)>"
      ]
     },
     "execution_count": 2,
     "metadata": {},
     "output_type": "execute_result"
    }
   ],
   "source": [
    "# The inputs are 128-length vectors with 10 timesteps, and the batch size\n",
    "# is 4.\n",
    "input_shape = (128, 1024, 1024)\n",
    "x = tf.random.normal(input_shape)\n",
    "%time y = tf.keras.layers.Conv1D(32, 3, activation=\"relu\", input_shape=input_shape[1:])(x)\n",
    "%time y = tf.keras.layers.Conv1D(32, 3, activation=\"relu\", input_shape=input_shape[1:])(x)\n",
    "y"
   ]
  },
  {
   "cell_type": "code",
   "execution_count": null,
   "metadata": {},
   "outputs": [],
   "source": []
  }
 ],
 "metadata": {
  "kernelspec": {
   "display_name": "Python 3",
   "language": "python",
   "name": "python3"
  },
  "language_info": {
   "codemirror_mode": {
    "name": "ipython",
    "version": 3
   },
   "file_extension": ".py",
   "mimetype": "text/x-python",
   "name": "python",
   "nbconvert_exporter": "python",
   "pygments_lexer": "ipython3",
   "version": "3.8.8"
  }
 },
 "nbformat": 4,
 "nbformat_minor": 4
}
