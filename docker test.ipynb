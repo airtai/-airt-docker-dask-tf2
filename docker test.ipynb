{
 "cells": [
  {
   "cell_type": "markdown",
   "metadata": {},
   "source": [
    "# airt.ai docker test"
   ]
  },
  {
   "cell_type": "code",
   "execution_count": 1,
   "metadata": {},
   "outputs": [
    {
     "name": "stdout",
     "output_type": "stream",
     "text": [
      "INFO:tensorflow:Enabling eager execution\n",
      "INFO:tensorflow:Enabling v2 tensorshape\n",
      "INFO:tensorflow:Enabling resource variables\n",
      "INFO:tensorflow:Enabling tensor equality\n",
      "INFO:tensorflow:Enabling control flow v2\n",
      "numpy       : 1.19.5\n",
      "pandas      : 1.1.5\n",
      "dask        : 2021.04.0\n",
      "tensorflow  : 2.5.0-rc1\n"
     ]
    }
   ],
   "source": [
    "import numpy as np\n",
    "import pandas as pd\n",
    "import dask\n",
    "import tensorflow as tf\n",
    "\n",
    "for m in [np, pd, dask, tf]:\n",
    "    print('{:12}: {}'.format(m.__name__, m.__version__))"
   ]
  },
  {
   "cell_type": "code",
   "execution_count": 4,
   "metadata": {},
   "outputs": [
    {
     "data": {
      "text/plain": [
       "<tf.Tensor: shape=(4, 8, 32), dtype=float32, numpy=\n",
       "array([[[2.5688326e-01, 0.0000000e+00, 5.1089518e-02, ...,\n",
       "         2.3159897e+00, 1.8547366e+00, 0.0000000e+00],\n",
       "        [1.0096495e+00, 1.0538878e+00, 1.2280199e-01, ...,\n",
       "         0.0000000e+00, 0.0000000e+00, 6.2006998e-01],\n",
       "        [5.1162415e-04, 3.6608857e-01, 0.0000000e+00, ...,\n",
       "         0.0000000e+00, 1.7868363e+00, 0.0000000e+00],\n",
       "        ...,\n",
       "        [2.2939417e+00, 4.6150646e-01, 0.0000000e+00, ...,\n",
       "         5.4350126e-01, 0.0000000e+00, 1.1286730e+00],\n",
       "        [1.1511534e+00, 0.0000000e+00, 4.7123559e-02, ...,\n",
       "         0.0000000e+00, 0.0000000e+00, 0.0000000e+00],\n",
       "        [0.0000000e+00, 5.0140731e-03, 0.0000000e+00, ...,\n",
       "         0.0000000e+00, 1.2072750e+00, 0.0000000e+00]],\n",
       "\n",
       "       [[0.0000000e+00, 1.4687682e+00, 0.0000000e+00, ...,\n",
       "         0.0000000e+00, 0.0000000e+00, 1.2883844e+00],\n",
       "        [0.0000000e+00, 0.0000000e+00, 7.5341034e-01, ...,\n",
       "         0.0000000e+00, 0.0000000e+00, 1.2251660e+00],\n",
       "        [1.2648066e+00, 1.5078959e-01, 0.0000000e+00, ...,\n",
       "         4.8275402e-01, 3.8875836e-01, 6.1825164e-02],\n",
       "        ...,\n",
       "        [0.0000000e+00, 9.5041496e-01, 0.0000000e+00, ...,\n",
       "         0.0000000e+00, 8.6497478e-02, 9.4441801e-01],\n",
       "        [1.3180112e+00, 0.0000000e+00, 0.0000000e+00, ...,\n",
       "         7.1888760e-02, 1.0821643e-01, 1.0698396e+00],\n",
       "        [1.3656889e+00, 8.6004898e-02, 9.9222827e-01, ...,\n",
       "         1.4312940e+00, 0.0000000e+00, 2.5400321e+00]],\n",
       "\n",
       "       [[6.7497003e-01, 6.1284989e-01, 0.0000000e+00, ...,\n",
       "         4.5835778e-01, 0.0000000e+00, 1.9932306e-01],\n",
       "        [0.0000000e+00, 1.1699800e+00, 1.1482707e+00, ...,\n",
       "         1.9793501e-01, 6.3591737e-01, 0.0000000e+00],\n",
       "        [0.0000000e+00, 0.0000000e+00, 0.0000000e+00, ...,\n",
       "         0.0000000e+00, 0.0000000e+00, 6.3291204e-01],\n",
       "        ...,\n",
       "        [0.0000000e+00, 4.7217536e-01, 0.0000000e+00, ...,\n",
       "         2.6346374e+00, 0.0000000e+00, 1.1394043e-01],\n",
       "        [0.0000000e+00, 0.0000000e+00, 1.5308805e+00, ...,\n",
       "         2.0710564e+00, 9.1768050e-01, 0.0000000e+00],\n",
       "        [2.2892587e+00, 1.4289864e+00, 0.0000000e+00, ...,\n",
       "         0.0000000e+00, 0.0000000e+00, 0.0000000e+00]],\n",
       "\n",
       "       [[0.0000000e+00, 0.0000000e+00, 0.0000000e+00, ...,\n",
       "         0.0000000e+00, 8.4319508e-01, 0.0000000e+00],\n",
       "        [0.0000000e+00, 1.1486070e+00, 1.5028738e+00, ...,\n",
       "         1.9916568e+00, 2.0497467e-01, 9.1938800e-01],\n",
       "        [6.6794395e-02, 0.0000000e+00, 0.0000000e+00, ...,\n",
       "         0.0000000e+00, 0.0000000e+00, 0.0000000e+00],\n",
       "        ...,\n",
       "        [0.0000000e+00, 7.5553179e-01, 0.0000000e+00, ...,\n",
       "         4.4070891e-01, 4.8635471e-01, 0.0000000e+00],\n",
       "        [0.0000000e+00, 1.4259677e+00, 0.0000000e+00, ...,\n",
       "         0.0000000e+00, 3.2143056e-01, 7.5569302e-01],\n",
       "        [0.0000000e+00, 0.0000000e+00, 0.0000000e+00, ...,\n",
       "         0.0000000e+00, 5.6501639e-01, 0.0000000e+00]]], dtype=float32)>"
      ]
     },
     "execution_count": 4,
     "metadata": {},
     "output_type": "execute_result"
    }
   ],
   "source": [
    "# The inputs are 128-length vectors with 10 timesteps, and the batch size\n",
    "# is 4.\n",
    "input_shape = (4, 10, 128)\n",
    "x = tf.random.normal(input_shape)\n",
    "y = tf.keras.layers.Conv1D(\n",
    "32, 3, activation='relu',input_shape=input_shape[1:])(x)\n",
    "y"
   ]
  },
  {
   "cell_type": "code",
   "execution_count": null,
   "metadata": {},
   "outputs": [],
   "source": []
  }
 ],
 "metadata": {
  "kernelspec": {
   "display_name": "Python 3",
   "language": "python",
   "name": "python3"
  },
  "language_info": {
   "codemirror_mode": {
    "name": "ipython",
    "version": 3
   },
   "file_extension": ".py",
   "mimetype": "text/x-python",
   "name": "python",
   "nbconvert_exporter": "python",
   "pygments_lexer": "ipython3",
   "version": "3.8.8"
  }
 },
 "nbformat": 4,
 "nbformat_minor": 4
}
